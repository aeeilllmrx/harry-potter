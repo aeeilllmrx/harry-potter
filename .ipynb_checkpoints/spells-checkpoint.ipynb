{
 "cells": [
  {
   "cell_type": "markdown",
   "metadata": {},
   "source": [
    "## Harry Potter and the Data Scientist's Stone"
   ]
  },
  {
   "cell_type": "markdown",
   "metadata": {},
   "source": [
    "Do spells in Harry Potter fall into different categories? Can we figure out what clusters they belong to, and maybe create new spells along those axes? Was Lord Voldemort really asexual? These are some of the mysteries I'll aim to uncover here."
   ]
  },
  {
   "cell_type": "code",
   "execution_count": 18,
   "metadata": {
    "collapsed": false
   },
   "outputs": [],
   "source": [
    "%matplotlib inline \n",
    "\n",
    "import matplotlib.pyplot as plt\n",
    "import nltk, re, os, codecs, string\n",
    "import numpy as np\n",
    "import pandas as pd\n",
    "from sklearn import feature_extraction\n",
    "import mpld3"
   ]
  },
  {
   "cell_type": "markdown",
   "metadata": {},
   "source": [
    "Rabid Harry Potter fans have compiled a list of spells [here](http://harrypotter.wikia.com/wiki/List_of_spells) and [here](http://www.pojo.com/harrypotter/spelist.shtml), so I've gone ahead and scraped the pages for spell names and their meanings."
   ]
  },
  {
   "cell_type": "code",
   "execution_count": 27,
   "metadata": {
    "collapsed": false
   },
   "outputs": [],
   "source": [
    "s = open(\"spells.txt\",\"rb\")\n",
    "spells = s.read().lower().split('\\n')[0:-1]\n",
    "\n",
    "lines = [i.split('\\t') for i in spells]\n",
    "\n",
    "name = [i[0] for i in lines]\n",
    "variety = [i[1] for i in lines]\n",
    "meaning = [i[2].translate(string.maketrans(\"\",\"\"), string.punctuation) for i in lines]\n"
   ]
  },
  {
   "cell_type": "markdown",
   "metadata": {},
   "source": [
    "Stem and tokenize the meanings, and have a peek with pandas."
   ]
  },
  {
   "cell_type": "code",
   "execution_count": 24,
   "metadata": {
    "collapsed": false
   },
   "outputs": [],
   "source": [
    "from nltk.stem.snowball import SnowballStemmer\n",
    "stemmer = SnowballStemmer(\"english\")\n",
    "\n",
    "def tokenize_and_stem(text):\n",
    "    \n",
    "    tokens = [word for sent in nltk.sent_tokenize(text) for word in nltk.word_tokenize(sent)]\n",
    "    filtered_tokens = []\n",
    "    # some regex filtering\n",
    "    for token in tokens:\n",
    "        if re.search('[a-zA-Z]', token):\n",
    "            filtered_tokens.append(token)\n",
    "    stems = [stemmer.stem(t) for t in filtered_tokens]\n",
    "    return stems\n",
    "\n",
    "stemmed = [tokenize_and_stem(i) for i in meaning]"
   ]
  },
  {
   "cell_type": "code",
   "execution_count": 38,
   "metadata": {
    "collapsed": false
   },
   "outputs": [
    {
     "data": {
      "text/html": [
       "<div>\n",
       "<table border=\"1\" class=\"dataframe\">\n",
       "  <thead>\n",
       "    <tr style=\"text-align: right;\">\n",
       "      <th></th>\n",
       "      <th>meaning</th>\n",
       "      <th>name</th>\n",
       "      <th>stemmed</th>\n",
       "      <th>variety</th>\n",
       "    </tr>\n",
       "  </thead>\n",
       "  <tbody>\n",
       "    <tr>\n",
       "      <th>0</th>\n",
       "      <td>resulting effect</td>\n",
       "      <td>incantation</td>\n",
       "      <td>[result, effect]</td>\n",
       "      <td>type of spell / charm</td>\n",
       "    </tr>\n",
       "    <tr>\n",
       "      <th>1</th>\n",
       "      <td>summons an object</td>\n",
       "      <td>accio</td>\n",
       "      <td>[summon, an, object]</td>\n",
       "      <td>charm</td>\n",
       "    </tr>\n",
       "    <tr>\n",
       "      <th>2</th>\n",
       "      <td>shoots water from wand</td>\n",
       "      <td>aguamenti</td>\n",
       "      <td>[shoot, water, from, wand]</td>\n",
       "      <td>charm</td>\n",
       "    </tr>\n",
       "    <tr>\n",
       "      <th>3</th>\n",
       "      <td>opens locked objects</td>\n",
       "      <td>alohomora</td>\n",
       "      <td>[open, lock, object]</td>\n",
       "      <td>charm</td>\n",
       "    </tr>\n",
       "    <tr>\n",
       "      <th>4</th>\n",
       "      <td>clears the targets airway</td>\n",
       "      <td>anapneo</td>\n",
       "      <td>[clear, the, target, airway]</td>\n",
       "      <td>spell</td>\n",
       "    </tr>\n",
       "  </tbody>\n",
       "</table>\n",
       "</div>"
      ],
      "text/plain": [
       "                     meaning         name                       stemmed  \\\n",
       "0           resulting effect  incantation              [result, effect]   \n",
       "1          summons an object        accio          [summon, an, object]   \n",
       "2     shoots water from wand    aguamenti    [shoot, water, from, wand]   \n",
       "3       opens locked objects    alohomora          [open, lock, object]   \n",
       "4  clears the targets airway      anapneo  [clear, the, target, airway]   \n",
       "\n",
       "                 variety  \n",
       "0  type of spell / charm  \n",
       "1                  charm  \n",
       "2                  charm  \n",
       "3                  charm  \n",
       "4                  spell  "
      ]
     },
     "execution_count": 38,
     "metadata": {},
     "output_type": "execute_result"
    }
   ],
   "source": [
    "df = pd.DataFrame({'name' : name, 'variety' : variety, 'meaning' : meaning, \n",
    "                   'stemmed' : stemmed})\n",
    "df.head()"
   ]
  },
  {
   "cell_type": "markdown",
   "metadata": {},
   "source": [
    "Now for the analysis. TF-IDF measures how often unusual words appear in texts, and we can use this metric to find out how similar different spells are."
   ]
  },
  {
   "cell_type": "code",
   "execution_count": 39,
   "metadata": {
    "collapsed": false
   },
   "outputs": [],
   "source": [
    "from sklearn.feature_extraction.text import TfidfVectorizer\n",
    "from sklearn.cluster import KMeans\n",
    "\n",
    "stopwords = nltk.corpus.stopwords.words('english')\n",
    "\n",
    "tfidf_vectorizer = TfidfVectorizer(max_df=0.5, max_features=200, min_df=0.1, \n",
    "        stop_words='english', use_idf=True, tokenizer=tokenize_and_stem, ngram_range=(1,3))\n",
    "tfidf_matrix = tfidf_vectorizer.fit_transform(meaning)\n",
    "\n",
    "km = KMeans(n_clusters=3)\n",
    "km.fit(tfidf_matrix)\n",
    "clusters = km.labels_.tolist()"
   ]
  },
  {
   "cell_type": "markdown",
   "metadata": {},
   "source": [
    "What have we just achieved? With a quick stroll through sklearn, we've clustered these spells in a way that will allow us to predict future spell types."
   ]
  },
  {
   "cell_type": "code",
   "execution_count": 40,
   "metadata": {
    "collapsed": false
   },
   "outputs": [
    {
     "data": {
      "text/html": [
       "<div>\n",
       "<table border=\"1\" class=\"dataframe\">\n",
       "  <thead>\n",
       "    <tr style=\"text-align: right;\">\n",
       "      <th></th>\n",
       "      <th>meaning</th>\n",
       "      <th>name</th>\n",
       "      <th>stemmed</th>\n",
       "      <th>variety</th>\n",
       "      <th>cluster</th>\n",
       "    </tr>\n",
       "  </thead>\n",
       "  <tbody>\n",
       "    <tr>\n",
       "      <th>0</th>\n",
       "      <td>resulting effect</td>\n",
       "      <td>incantation</td>\n",
       "      <td>[result, effect]</td>\n",
       "      <td>type of spell / charm</td>\n",
       "      <td>0</td>\n",
       "    </tr>\n",
       "    <tr>\n",
       "      <th>1</th>\n",
       "      <td>summons an object</td>\n",
       "      <td>accio</td>\n",
       "      <td>[summon, an, object]</td>\n",
       "      <td>charm</td>\n",
       "      <td>2</td>\n",
       "    </tr>\n",
       "    <tr>\n",
       "      <th>2</th>\n",
       "      <td>shoots water from wand</td>\n",
       "      <td>aguamenti</td>\n",
       "      <td>[shoot, water, from, wand]</td>\n",
       "      <td>charm</td>\n",
       "      <td>0</td>\n",
       "    </tr>\n",
       "    <tr>\n",
       "      <th>3</th>\n",
       "      <td>opens locked objects</td>\n",
       "      <td>alohomora</td>\n",
       "      <td>[open, lock, object]</td>\n",
       "      <td>charm</td>\n",
       "      <td>2</td>\n",
       "    </tr>\n",
       "    <tr>\n",
       "      <th>4</th>\n",
       "      <td>clears the targets airway</td>\n",
       "      <td>anapneo</td>\n",
       "      <td>[clear, the, target, airway]</td>\n",
       "      <td>spell</td>\n",
       "      <td>0</td>\n",
       "    </tr>\n",
       "  </tbody>\n",
       "</table>\n",
       "</div>"
      ],
      "text/plain": [
       "                     meaning         name                       stemmed  \\\n",
       "0           resulting effect  incantation              [result, effect]   \n",
       "1          summons an object        accio          [summon, an, object]   \n",
       "2     shoots water from wand    aguamenti    [shoot, water, from, wand]   \n",
       "3       opens locked objects    alohomora          [open, lock, object]   \n",
       "4  clears the targets airway      anapneo  [clear, the, target, airway]   \n",
       "\n",
       "                 variety  cluster  \n",
       "0  type of spell / charm        0  \n",
       "1                  charm        2  \n",
       "2                  charm        0  \n",
       "3                  charm        2  \n",
       "4                  spell        0  "
      ]
     },
     "execution_count": 40,
     "metadata": {},
     "output_type": "execute_result"
    }
   ],
   "source": [
    "df['cluster'] = clusters\n",
    "df.head()"
   ]
  },
  {
   "cell_type": "markdown",
   "metadata": {
    "collapsed": false
   },
   "source": [
    "So it turns out clustering was super weak. Let's try a cool technique called latent dirichlet allocation. Once we convert our data to a bag-of-words representation, LDA is able to use a Bayesian approach to find \"hidden topics\" that underlie our sentences."
   ]
  },
  {
   "cell_type": "code",
   "execution_count": 45,
   "metadata": {
    "collapsed": false
   },
   "outputs": [],
   "source": [
    "from gensim import corpora, models, similarities \n",
    "\n",
    "#remove stop words\n",
    "text = [[word for word in line if word not in stopwords] for line in stemmed]\n",
    "\n",
    "# filter out uncommon and too-common words\n",
    "dictionary = corpora.Dictionary(text)\n",
    "dictionary.filter_extremes(no_below=1, no_above=0.8)\n",
    "\n",
    "# convert to one-hot\n",
    "corpus = [dictionary.doc2bow(t) for t in text]"
   ]
  },
  {
   "cell_type": "code",
   "execution_count": 60,
   "metadata": {
    "collapsed": false
   },
   "outputs": [],
   "source": [
    "lda = models.LdaModel(corpus, num_topics=2, id2word=dictionary, \n",
    "                      update_every=5, chunksize=100, passes=50)"
   ]
  },
  {
   "cell_type": "markdown",
   "metadata": {},
   "source": [
    "It's still a bit hazy, but we can start to make out a pattern: the first topic is curses (violent spells directed against people), and the second is charms (spells that transfigure objects and generally aren't permanent). We'll take another look with more data and more advanced models soon."
   ]
  },
  {
   "cell_type": "code",
   "execution_count": 66,
   "metadata": {
    "collapsed": false
   },
   "outputs": [
    {
     "name": "stdout",
     "output_type": "stream",
     "text": [
      "['object', 'oppon', 'wand', 'make', 'counter', 'item', 'conjur', 'creat', 'unforgiv', 'lock'] \n",
      "\n",
      "['spell', 'reveal', 'victim', 'target', 'magic', 'protect', 'caus', 'stop', 'allow', 'user'] \n",
      "\n"
     ]
    }
   ],
   "source": [
    "topics_matrix = lda.show_topics(formatted=False, num_words=10)\n",
    "topics_matrix = np.array(topics_matrix)\n",
    "topic_words = topics_matrix[:,:,1]\n",
    "for i in topic_words:\n",
    "    print [str(word) for word in i], \"\\n\""
   ]
  }
 ],
 "metadata": {
  "kernelspec": {
   "display_name": "Python 2",
   "language": "python",
   "name": "python2"
  },
  "language_info": {
   "codemirror_mode": {
    "name": "ipython",
    "version": 2
   },
   "file_extension": ".py",
   "mimetype": "text/x-python",
   "name": "python",
   "nbconvert_exporter": "python",
   "pygments_lexer": "ipython2",
   "version": "2.7.10"
  }
 },
 "nbformat": 4,
 "nbformat_minor": 0
}
