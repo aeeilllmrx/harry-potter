{
 "cells": [
  {
   "cell_type": "markdown",
   "metadata": {},
   "source": [
    "just exploring some more NLP techniques, this time with a tiny dataset of harry potter spells"
   ]
  },
  {
   "cell_type": "code",
   "execution_count": 1,
   "metadata": {
    "collapsed": false
   },
   "outputs": [],
   "source": [
    "%matplotlib inline \n",
    "\n",
    "import matplotlib.pyplot as plt\n",
    "import matplotlib as mpl\n",
    "\n",
    "import numpy as np\n",
    "import pandas as pd\n",
    "import nltk\n",
    "import re\n",
    "import os\n",
    "import codecs\n",
    "from sklearn import feature_extraction\n",
    "import mpld3"
   ]
  },
  {
   "cell_type": "code",
   "execution_count": 2,
   "metadata": {
    "collapsed": false
   },
   "outputs": [],
   "source": [
    "f = file(\"curses.txt\",\"r\")\n",
    "\n",
    "g = f.readlines()\n",
    "\n",
    "h = []\n",
    "\n",
    "for i in g[1:]:\n",
    "    if len(i) > 10:\n",
    "        line = i.split(\"\\t\")\n",
    "        # print line\n",
    "        h.append([line[0], line[1],line[2]])"
   ]
  },
  {
   "cell_type": "markdown",
   "metadata": {},
   "source": [
    "we now obtain a list of spells and their meanings, as well as their category (charm/spell/curse)"
   ]
  },
  {
   "cell_type": "code",
   "execution_count": 3,
   "metadata": {
    "collapsed": false
   },
   "outputs": [
    {
     "name": "stdout",
     "output_type": "stream",
     "text": [
      "['Accio', 'Aguamenti', 'Alohomora', 'Anapneo', 'Aparecium']\n",
      "['Summons an object', 'Shoots water from wand.', 'Opens locked objects', \"Clears the target's airway.\", 'Reveals invisible ink']\n"
     ]
    }
   ],
   "source": [
    "spells = [i[0] for i in h[1:]]\n",
    "meanings = [i[2].strip() for i in h[1:]]\n",
    "kind_of_spell = [i[1] for i in h[1:]]\n",
    "\n",
    "print spells[:5]\n",
    "print meanings[:5]\n"
   ]
  },
  {
   "cell_type": "markdown",
   "metadata": {},
   "source": [
    "here we define the tokenize/stem functions, which help to clean up the data"
   ]
  },
  {
   "cell_type": "code",
   "execution_count": 4,
   "metadata": {
    "collapsed": true
   },
   "outputs": [],
   "source": [
    "from nltk.stem.snowball import SnowballStemmer\n",
    "stemmer = SnowballStemmer(\"english\")\n",
    "\n",
    "def tokenize_and_stem(text):\n",
    "    \n",
    "    tokens = [word for sent in nltk.sent_tokenize(text) for word in nltk.word_tokenize(sent)]\n",
    "    filtered_tokens = []\n",
    "    # some regex filtering\n",
    "    for token in tokens:\n",
    "        if re.search('[a-zA-Z]', token):\n",
    "            filtered_tokens.append(token)\n",
    "    stems = [stemmer.stem(t) for t in filtered_tokens]\n",
    "    return stems\n",
    "\n",
    "\n",
    "def tokenize_only(text):\n",
    "    \n",
    "    tokens = [word.lower() for sent in nltk.sent_tokenize(text) for word in nltk.word_tokenize(sent)]\n",
    "    filtered_tokens = []\n",
    "    for token in tokens:\n",
    "        if re.search('[a-zA-Z]', token):\n",
    "            filtered_tokens.append(token)\n",
    "    return filtered_tokens"
   ]
  },
  {
   "cell_type": "code",
   "execution_count": 5,
   "metadata": {
    "collapsed": false
   },
   "outputs": [],
   "source": [
    "totalvocab_stemmed = []\n",
    "totalvocab_tokenized = []\n",
    "for i in meanings:\n",
    "\n",
    "    allwords_stemmed = tokenize_and_stem(i) \n",
    "    totalvocab_stemmed.extend(allwords_stemmed) \n",
    "    \n",
    "    allwords_tokenized = tokenize_only(i)\n",
    "    totalvocab_tokenized.extend(allwords_tokenized)"
   ]
  },
  {
   "cell_type": "code",
   "execution_count": 6,
   "metadata": {
    "collapsed": false
   },
   "outputs": [
    {
     "name": "stdout",
     "output_type": "stream",
     "text": [
      "there are 357 items in vocab_frame\n"
     ]
    }
   ],
   "source": [
    "vocab_frame = pd.DataFrame({'words': totalvocab_tokenized}, index = totalvocab_stemmed)\n",
    "print 'there are ' + str(vocab_frame.shape[0]) + ' items in vocab_frame'"
   ]
  },
  {
   "cell_type": "code",
   "execution_count": 7,
   "metadata": {
    "collapsed": false
   },
   "outputs": [
    {
     "name": "stdout",
     "output_type": "stream",
     "text": [
      "          words\n",
      "summon  summons\n",
      "an           an\n",
      "object   object\n",
      "shoot    shoots\n",
      "water     water\n"
     ]
    }
   ],
   "source": [
    "print vocab_frame.head()"
   ]
  },
  {
   "cell_type": "markdown",
   "metadata": {},
   "source": [
    "now for the analysis. tf-idf measures how often unusual words appear in texts, and we can use that info to find out if different texts are similar"
   ]
  },
  {
   "cell_type": "code",
   "execution_count": 8,
   "metadata": {
    "collapsed": false
   },
   "outputs": [],
   "source": [
    "from sklearn.feature_extraction.text import TfidfVectorizer\n",
    "\n",
    "stopwords = nltk.corpus.stopwords.words('english')\n",
    "\n",
    "tfidf_vectorizer = TfidfVectorizer(max_df=0.5, max_features=10000,\n",
    "                                 min_df=0.1, stop_words='english',\n",
    "                                 use_idf=True, tokenizer=tokenize_and_stem, ngram_range=(1,3))\n",
    "\n",
    "tfidf_matrix = tfidf_vectorizer.fit_transform(meanings) #fit the vectorizer to meanings\n"
   ]
  },
  {
   "cell_type": "code",
   "execution_count": 9,
   "metadata": {
    "collapsed": false
   },
   "outputs": [],
   "source": [
    "from sklearn.cluster import KMeans\n",
    "\n",
    "num_clusters = 3\n",
    "km = KMeans(n_clusters=num_clusters)\n",
    "km.fit(tfidf_matrix)\n",
    "\n",
    "clusters = km.labels_.tolist()"
   ]
  },
  {
   "cell_type": "code",
   "execution_count": 10,
   "metadata": {
    "collapsed": true
   },
   "outputs": [],
   "source": [
    "from sklearn.externals import joblib\n",
    "\n",
    "joblib.dump(km, 'doc_cluster.pkl')\n",
    "km = joblib.load('doc_cluster.pkl')\n",
    "clusters = km.labels_.tolist()"
   ]
  },
  {
   "cell_type": "markdown",
   "metadata": {},
   "source": [
    "using pandas to display/describe the info we have so far"
   ]
  },
  {
   "cell_type": "code",
   "execution_count": 11,
   "metadata": {
    "collapsed": true
   },
   "outputs": [],
   "source": [
    "cols = { 'spell': spells, 'type': kind_of_spell, 'effect': meanings, 'cluster': clusters}\n",
    "frame = pd.DataFrame(cols, index = [clusters] , columns = ['spell', 'effect', 'cluster','type'])"
   ]
  },
  {
   "cell_type": "code",
   "execution_count": 12,
   "metadata": {
    "collapsed": false
   },
   "outputs": [
    {
     "data": {
      "text/html": [
       "<div>\n",
       "<table border=\"1\" class=\"dataframe\">\n",
       "  <thead>\n",
       "    <tr style=\"text-align: right;\">\n",
       "      <th></th>\n",
       "      <th>spell</th>\n",
       "      <th>effect</th>\n",
       "      <th>cluster</th>\n",
       "      <th>type</th>\n",
       "    </tr>\n",
       "  </thead>\n",
       "  <tbody>\n",
       "    <tr>\n",
       "      <th>1</th>\n",
       "      <td>Accio</td>\n",
       "      <td>Summons an object</td>\n",
       "      <td>1</td>\n",
       "      <td>Charm</td>\n",
       "    </tr>\n",
       "    <tr>\n",
       "      <th>0</th>\n",
       "      <td>Aguamenti</td>\n",
       "      <td>Shoots water from wand.</td>\n",
       "      <td>0</td>\n",
       "      <td>Charm</td>\n",
       "    </tr>\n",
       "    <tr>\n",
       "      <th>1</th>\n",
       "      <td>Alohomora</td>\n",
       "      <td>Opens locked objects</td>\n",
       "      <td>1</td>\n",
       "      <td>Charm</td>\n",
       "    </tr>\n",
       "    <tr>\n",
       "      <th>0</th>\n",
       "      <td>Anapneo</td>\n",
       "      <td>Clears the target's airway.</td>\n",
       "      <td>0</td>\n",
       "      <td>Spell</td>\n",
       "    </tr>\n",
       "    <tr>\n",
       "      <th>0</th>\n",
       "      <td>Aparecium</td>\n",
       "      <td>Reveals invisible ink</td>\n",
       "      <td>0</td>\n",
       "      <td>Spell</td>\n",
       "    </tr>\n",
       "  </tbody>\n",
       "</table>\n",
       "</div>"
      ],
      "text/plain": [
       "       spell                       effect  cluster   type\n",
       "1      Accio            Summons an object        1  Charm\n",
       "0  Aguamenti      Shoots water from wand.        0  Charm\n",
       "1  Alohomora         Opens locked objects        1  Charm\n",
       "0    Anapneo  Clears the target's airway.        0  Spell\n",
       "0  Aparecium        Reveals invisible ink        0  Spell"
      ]
     },
     "execution_count": 12,
     "metadata": {},
     "output_type": "execute_result"
    }
   ],
   "source": [
    "frame.head()"
   ]
  },
  {
   "cell_type": "code",
   "execution_count": 13,
   "metadata": {
    "collapsed": false
   },
   "outputs": [
    {
     "data": {
      "text/plain": [
       "cluster        \n",
       "0        count        66\n",
       "         unique        3\n",
       "         top       Spell\n",
       "         freq         54\n",
       "1        count        14\n",
       "         unique        3\n",
       "         top       Charm\n",
       "         freq          7\n",
       "2        count        11\n",
       "         unique        3\n",
       "         top       Curse\n",
       "         freq          5\n",
       "dtype: object"
      ]
     },
     "execution_count": 13,
     "metadata": {},
     "output_type": "execute_result"
    }
   ],
   "source": [
    "grouped = frame['type'].groupby(frame['cluster'])\n",
    "grouped.describe()"
   ]
  },
  {
   "cell_type": "code",
   "execution_count": 14,
   "metadata": {
    "collapsed": false
   },
   "outputs": [
    {
     "name": "stdout",
     "output_type": "stream",
     "text": [
      "Top terms per cluster: \n",
      "\n",
      " \n",
      " Cluster 0 words:\n",
      "opponent\n",
      "object\n",
      "\n",
      "\n",
      "Cluster 0 spells:\n",
      " Aguamenti,  Anapneo,  Aparecium,  Avis,  Cave Inimicum,  Colloportus,  Confringo,  Defodio,  Deletrius,  Densaugeo,  Deprimo,  Diffindo,  Dissendium,  Engorgio,  Ennervate,  Episkey,  Erecto,  Expecto Patronum,  Ferula,  Fidelius,  Finite Incantatum,  Glisseo,  Homenum Revelio,  Homorphus,  Immobulus,  Imperio,  Incarcerous,  Incendio,  Legilimens,  Levicorpus,  Liberacorpus,  Lumos,  Meteolojinx Recanto,  Mobilicorpus,  Morsmorde,  Muffliato,  Nox,  Obliviate,  Obscuro,  Oppugno,  Orchideous,  Pack,  Peskipiksi Pesternomi,  Petrificus Totalus,  Piertotum Locomotor,  Point Me,  Priori Incantatum,  Prior Incantato,  Protego,  Protego Horribilis,  Protego Totalum,  Quietus,  Reducio,  Relashio,  Rennervate,  Reparo,  Repello Muggletum,  Riddikulus,  Salvio Hexia,  Scruge,  Sectumsempra,  Serpensortia,  Silencio,  Sonorus,  Specialis Revelio,  Tergeo, \n",
      " \n",
      " Cluster 1 words:\n",
      "object\n",
      "opponent\n",
      "\n",
      "\n",
      "Cluster 1 spells:\n",
      " Accio,  Alohomora,  Avifors,  Duro,  Expulso,  Flagrate,  Flipendo,  Geminio,  Impedimenta,  Impervius,  Mobiliarbus,  Reducto,  Waddiwasi,  Wingardium Leviosa, \n",
      " \n",
      " Cluster 2 words:\n",
      "opponent\n",
      "object\n",
      "\n",
      "\n",
      "Cluster 2 spells:\n",
      " Avada Kedavra,  Confundus,  Conjunctivitis,  Crucio,  Expelliarmus,  Furnunculus,  Langlock,  Locomotor Mortis,  Rictusempra,  Stupefy,  Tarantallegra,\n"
     ]
    }
   ],
   "source": [
    "terms = tfidf_vectorizer.get_feature_names()\n",
    "\n",
    "print \"Top terms per cluster: \"\n",
    "\n",
    "#sort cluster centers by proximity to centroid\n",
    "order_centroids = km.cluster_centers_.argsort()[:, ::-1] \n",
    "\n",
    "for i in range(num_clusters):\n",
    "    print \"\\n \\n Cluster %d words:\" % i\n",
    "    \n",
    "    for ind in order_centroids[i, :2]: \n",
    "        print '%s' % vocab_frame.ix[terms[ind].split(' ')].values.tolist()[0][0].encode('utf-8', 'ignore')\n",
    "    print \"\\n\"\n",
    "    \n",
    "    print \"Cluster %d spells:\" % i\n",
    "    for sp in frame.ix[i]['spell'].values.tolist():\n",
    "        print' %s,' % sp,"
   ]
  },
  {
   "cell_type": "markdown",
   "metadata": {},
   "source": [
    "unfortunately the top terms across the board were \"opponent\" and \"object\", and adding those to the stopwords set made it hard to get any results at all"
   ]
  },
  {
   "cell_type": "code",
   "execution_count": 15,
   "metadata": {
    "collapsed": false
   },
   "outputs": [
    {
     "data": {
      "image/png": "[encoded data removed]",
      "text/plain": [
       "<matplotlib.figure.Figure at 0x114c46110>"
      ]
     },
     "metadata": {},
     "output_type": "display_data"
    }
   ],
   "source": [
    "from sklearn.metrics.pairwise import cosine_similarity\n",
    "from scipy.cluster.hierarchy import ward, dendrogram\n",
    "\n",
    "dist = 1 - cosine_similarity(tfidf_matrix)\n",
    "linkage_matrix = ward(dist) #define the linkage_matrix using ward clustering pre-computed distances\n",
    "\n",
    "fig, ax = plt.subplots(figsize=(5, 10)) # set size\n",
    "ax = dendrogram(linkage_matrix, orientation=\"right\", labels=spells)\n",
    "\n",
    "plt.tick_params(\\\n",
    "    axis= 'x',          # changes apply to the x-axis\n",
    "    which='both',      # both major and minor ticks are affected\n",
    "    bottom='off',      # ticks along the bottom edge are off\n",
    "    top='off',         # ticks along the top edge are off\n",
    "    labelbottom='off')\n",
    "\n",
    "plt.tight_layout() #show plot with tight layout\n",
    "\n",
    "plt.savefig('ward_clusters.png', dpi=200) #save figure as ward_clusters"
   ]
  },
  {
   "cell_type": "markdown",
   "metadata": {},
   "source": [
    "the dendrogram was kinda lame, so let's try LDA"
   ]
  },
  {
   "cell_type": "code",
   "execution_count": null,
   "metadata": {
    "collapsed": true
   },
   "outputs": [],
   "source": [
    "from gensim import corpora, models, similarities \n",
    "\n",
    "#tokenize\n",
    "tokenized_text = [tokenize_and_stem(text) for text in meanings]\n",
    "\n",
    "#remove stop words\n",
    "texts = [[word for word in text if word not in stopwords] for text in tokenized_text]\n",
    "\n",
    "#create a Gensim dictionary from the texts\n",
    "dictionary = corpora.Dictionary(texts)\n",
    "\n",
    "#remove extremes (similar to the min/max df step used when creating the tf-idf matrix)\n",
    "dictionary.filter_extremes(no_below=1, no_above=0.8)\n",
    "\n",
    "#convert the dictionary to a bag of words corpus for reference\n",
    "corpus = [dictionary.doc2bow(text) for text in texts]"
   ]
  },
  {
   "cell_type": "code",
   "execution_count": 26,
   "metadata": {
    "collapsed": false
   },
   "outputs": [
    {
     "name": "stdout",
     "output_type": "stream",
     "text": [
      "CPU times: user 3.29 s, sys: 8.98 ms, total: 3.3 s\n",
      "Wall time: 3.32 s\n"
     ]
    }
   ],
   "source": [
    "%time lda = models.LdaModel(corpus, num_topics=3, id2word=dictionary, update_every=5, chunksize=1000, passes=50)"
   ]
  },
  {
   "cell_type": "code",
   "execution_count": 27,
   "metadata": {
    "collapsed": false
   },
   "outputs": [
    {
     "data": {
      "text/plain": [
       "[u'0.084*object + 0.031*make + 0.026*spell + 0.020*wand + 0.014*item + 0.014*lock + 0.014*caus + 0.014*turn + 0.014*bird + 0.014*user',\n",
       " u'0.034*oppon + 0.026*unforgiv + 0.026*creat + 0.019*victim + 0.018*enlarg + 0.011*someon + 0.011*conjur + 0.011*nearbi + 0.011*damag + 0.010*allow',\n",
       " u\"0.042*oppon + 0.025*spell + 0.019*counter + 0.019*wand + 0.019*'s + 0.019*target + 0.019*protect + 0.014*magic + 0.013*reveal + 0.013*one\"]"
      ]
     },
     "execution_count": 27,
     "metadata": {},
     "output_type": "execute_result"
    }
   ],
   "source": [
    "lda.show_topics()"
   ]
  },
  {
   "cell_type": "markdown",
   "metadata": {},
   "source": [
    "the point is to find the most important words in each cluster, along with the probability that each will appear in a text in that cluster. it's a bit vague, but we can sort of see the same breakdown as before: the first topic is spells, the second is curses, and the third is charms"
   ]
  },
  {
   "cell_type": "code",
   "execution_count": 28,
   "metadata": {
    "collapsed": false
   },
   "outputs": [
    {
     "name": "stdout",
     "output_type": "stream",
     "text": [
      "['object', 'make', 'spell', 'wand', 'item', 'lock', 'caus', 'turn', 'bird', 'user'] \n",
      "\n",
      "['oppon', 'unforgiv', 'creat', 'victim', 'enlarg', 'someon', 'conjur', 'nearbi', 'damag', 'allow'] \n",
      "\n",
      "['oppon', 'spell', 'counter', 'wand', \"'s\", 'target', 'protect', 'magic', 'reveal', 'one'] \n",
      "\n"
     ]
    }
   ],
   "source": [
    "topics_matrix = lda.show_topics(formatted=False, num_words=10)\n",
    "topics_matrix = np.array(topics_matrix)\n",
    "\n",
    "topic_words = topics_matrix[:,:,1]\n",
    "for i in topic_words:\n",
    "    print [str(word) for word in i], \"\\n\""
   ]
  }
 ],
 "metadata": {
  "kernelspec": {
   "display_name": "Python 2",
   "language": "python",
   "name": "python2"
  },
  "language_info": {
   "codemirror_mode": {
    "name": "ipython",
    "version": 2
   },
   "file_extension": ".py",
   "mimetype": "text/x-python",
   "name": "python",
   "nbconvert_exporter": "python",
   "pygments_lexer": "ipython2",
   "version": "2.7.10"
  }
 },
 "nbformat": 4,
 "nbformat_minor": 0
}
